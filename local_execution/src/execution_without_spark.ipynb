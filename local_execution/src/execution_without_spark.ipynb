{
 "cells": [
  {
   "cell_type": "markdown",
   "metadata": {},
   "source": [
    "# Objetivo\n",
    "Validar algumas transformações fora do spark."
   ]
  },
  {
   "cell_type": "code",
   "execution_count": 1,
   "metadata": {},
   "outputs": [],
   "source": [
    "import pandas as pd"
   ]
  },
  {
   "cell_type": "code",
   "execution_count": 2,
   "metadata": {},
   "outputs": [],
   "source": [
    "config_types_mapping_filename = \"/config/types_mapping.json\"\n",
    "data_filename_import = \"/data/input/users/load.csv\"\n",
    "data_filename_parquet_product_export = \"/data/output/product_export_without_spark.parquet\"\n",
    "data_filename_csv_product_export = \"/data/output/product_export_without_spark.csv\""
   ]
  },
  {
   "cell_type": "code",
   "execution_count": 3,
   "metadata": {},
   "outputs": [],
   "source": [
    "column_sort_values = \"update_date\"\n",
    "column_drop_duplicates = \"id\""
   ]
  },
  {
   "cell_type": "code",
   "execution_count": 4,
   "metadata": {},
   "outputs": [],
   "source": [
    "df_row_data = pd.read_csv(data_filename_import)"
   ]
  },
  {
   "cell_type": "code",
   "execution_count": 5,
   "metadata": {},
   "outputs": [
    {
     "data": {
      "text/html": [
       "<div>\n",
       "<style scoped>\n",
       "    .dataframe tbody tr th:only-of-type {\n",
       "        vertical-align: middle;\n",
       "    }\n",
       "\n",
       "    .dataframe tbody tr th {\n",
       "        vertical-align: top;\n",
       "    }\n",
       "\n",
       "    .dataframe thead th {\n",
       "        text-align: right;\n",
       "    }\n",
       "</style>\n",
       "<table border=\"1\" class=\"dataframe\">\n",
       "  <thead>\n",
       "    <tr style=\"text-align: right;\">\n",
       "      <th></th>\n",
       "      <th>id</th>\n",
       "      <th>name</th>\n",
       "      <th>email</th>\n",
       "      <th>phone</th>\n",
       "      <th>address</th>\n",
       "      <th>age</th>\n",
       "      <th>create_date</th>\n",
       "      <th>update_date</th>\n",
       "    </tr>\n",
       "  </thead>\n",
       "  <tbody>\n",
       "    <tr>\n",
       "      <th>0</th>\n",
       "      <td>1</td>\n",
       "      <td>david.lynch@cognitivo.ai</td>\n",
       "      <td>David Lynch</td>\n",
       "      <td>(11) 99999-9997</td>\n",
       "      <td>Mulholland Drive, Los Angeles, CA, US</td>\n",
       "      <td>72</td>\n",
       "      <td>2018-03-03 18:47:01.954752</td>\n",
       "      <td>2018-03-03 18:47:01.954752</td>\n",
       "    </tr>\n",
       "    <tr>\n",
       "      <th>1</th>\n",
       "      <td>1</td>\n",
       "      <td>david.lynch@cognitivo.ai</td>\n",
       "      <td>David Lynch</td>\n",
       "      <td>(11) 99999-9998</td>\n",
       "      <td>Mulholland Drive, Los Angeles, CA, US</td>\n",
       "      <td>72</td>\n",
       "      <td>2018-03-03 18:47:01.954752</td>\n",
       "      <td>2018-04-14 17:09:48.558151</td>\n",
       "    </tr>\n",
       "    <tr>\n",
       "      <th>2</th>\n",
       "      <td>2</td>\n",
       "      <td>sherlock.holmes@cognitivo.ai</td>\n",
       "      <td>Sherlock Holmes</td>\n",
       "      <td>(11) 94815-1623</td>\n",
       "      <td>221B Baker Street, London, UK</td>\n",
       "      <td>34</td>\n",
       "      <td>2018-04-21 20:21:24.364752</td>\n",
       "      <td>2018-04-21 20:21:24.364752</td>\n",
       "    </tr>\n",
       "    <tr>\n",
       "      <th>3</th>\n",
       "      <td>3</td>\n",
       "      <td>spongebob.squarepants@cognitivo.ai</td>\n",
       "      <td>Spongebob Squarepants</td>\n",
       "      <td>(11) 91234-5678</td>\n",
       "      <td>124 Conch Street, Bikini Bottom, Pacific Ocean</td>\n",
       "      <td>13</td>\n",
       "      <td>2018-05-19 04:07:06.854752</td>\n",
       "      <td>2018-05-19 04:07:06.854752</td>\n",
       "    </tr>\n",
       "    <tr>\n",
       "      <th>4</th>\n",
       "      <td>1</td>\n",
       "      <td>david.lynch@cognitivo.ai</td>\n",
       "      <td>David Lynch</td>\n",
       "      <td>(11) 99999-9999</td>\n",
       "      <td>Mulholland Drive, Los Angeles, CA, US</td>\n",
       "      <td>72</td>\n",
       "      <td>2018-03-03 18:47:01.954752</td>\n",
       "      <td>2018-05-23 10:13:59.594752</td>\n",
       "    </tr>\n",
       "  </tbody>\n",
       "</table>\n",
       "</div>"
      ],
      "text/plain": [
       "   id                                name                  email  \\\n",
       "0   1            david.lynch@cognitivo.ai            David Lynch   \n",
       "1   1            david.lynch@cognitivo.ai            David Lynch   \n",
       "2   2        sherlock.holmes@cognitivo.ai        Sherlock Holmes   \n",
       "3   3  spongebob.squarepants@cognitivo.ai  Spongebob Squarepants   \n",
       "4   1            david.lynch@cognitivo.ai            David Lynch   \n",
       "\n",
       "             phone                                         address  age  \\\n",
       "0  (11) 99999-9997           Mulholland Drive, Los Angeles, CA, US   72   \n",
       "1  (11) 99999-9998           Mulholland Drive, Los Angeles, CA, US   72   \n",
       "2  (11) 94815-1623                   221B Baker Street, London, UK   34   \n",
       "3  (11) 91234-5678  124 Conch Street, Bikini Bottom, Pacific Ocean   13   \n",
       "4  (11) 99999-9999           Mulholland Drive, Los Angeles, CA, US   72   \n",
       "\n",
       "                  create_date                 update_date  \n",
       "0  2018-03-03 18:47:01.954752  2018-03-03 18:47:01.954752  \n",
       "1  2018-03-03 18:47:01.954752  2018-04-14 17:09:48.558151  \n",
       "2  2018-04-21 20:21:24.364752  2018-04-21 20:21:24.364752  \n",
       "3  2018-05-19 04:07:06.854752  2018-05-19 04:07:06.854752  \n",
       "4  2018-03-03 18:47:01.954752  2018-05-23 10:13:59.594752  "
      ]
     },
     "execution_count": 5,
     "metadata": {},
     "output_type": "execute_result"
    }
   ],
   "source": [
    "# vizualização inicial dos dados brutos\n",
    "df_row_data.head()"
   ]
  },
  {
   "cell_type": "code",
   "execution_count": 6,
   "metadata": {},
   "outputs": [
    {
     "data": {
      "text/html": [
       "<div>\n",
       "<style scoped>\n",
       "    .dataframe tbody tr th:only-of-type {\n",
       "        vertical-align: middle;\n",
       "    }\n",
       "\n",
       "    .dataframe tbody tr th {\n",
       "        vertical-align: top;\n",
       "    }\n",
       "\n",
       "    .dataframe thead th {\n",
       "        text-align: right;\n",
       "    }\n",
       "</style>\n",
       "<table border=\"1\" class=\"dataframe\">\n",
       "  <thead>\n",
       "    <tr style=\"text-align: right;\">\n",
       "      <th></th>\n",
       "      <th>id</th>\n",
       "      <th>name</th>\n",
       "      <th>email</th>\n",
       "      <th>phone</th>\n",
       "      <th>address</th>\n",
       "      <th>age</th>\n",
       "      <th>create_date</th>\n",
       "      <th>update_date</th>\n",
       "    </tr>\n",
       "  </thead>\n",
       "  <tbody>\n",
       "    <tr>\n",
       "      <th>0</th>\n",
       "      <td>1</td>\n",
       "      <td>david.lynch@cognitivo.ai</td>\n",
       "      <td>David Lynch</td>\n",
       "      <td>(11) 99999-9997</td>\n",
       "      <td>Mulholland Drive, Los Angeles, CA, US</td>\n",
       "      <td>72</td>\n",
       "      <td>2018-03-03 18:47:01.954752</td>\n",
       "      <td>2018-03-03 18:47:01.954752</td>\n",
       "    </tr>\n",
       "    <tr>\n",
       "      <th>1</th>\n",
       "      <td>1</td>\n",
       "      <td>david.lynch@cognitivo.ai</td>\n",
       "      <td>David Lynch</td>\n",
       "      <td>(11) 99999-9998</td>\n",
       "      <td>Mulholland Drive, Los Angeles, CA, US</td>\n",
       "      <td>72</td>\n",
       "      <td>2018-03-03 18:47:01.954752</td>\n",
       "      <td>2018-04-14 17:09:48.558151</td>\n",
       "    </tr>\n",
       "    <tr>\n",
       "      <th>4</th>\n",
       "      <td>1</td>\n",
       "      <td>david.lynch@cognitivo.ai</td>\n",
       "      <td>David Lynch</td>\n",
       "      <td>(11) 99999-9999</td>\n",
       "      <td>Mulholland Drive, Los Angeles, CA, US</td>\n",
       "      <td>72</td>\n",
       "      <td>2018-03-03 18:47:01.954752</td>\n",
       "      <td>2018-05-23 10:13:59.594752</td>\n",
       "    </tr>\n",
       "  </tbody>\n",
       "</table>\n",
       "</div>"
      ],
      "text/plain": [
       "   id                      name        email            phone  \\\n",
       "0   1  david.lynch@cognitivo.ai  David Lynch  (11) 99999-9997   \n",
       "1   1  david.lynch@cognitivo.ai  David Lynch  (11) 99999-9998   \n",
       "4   1  david.lynch@cognitivo.ai  David Lynch  (11) 99999-9999   \n",
       "\n",
       "                                 address  age                 create_date  \\\n",
       "0  Mulholland Drive, Los Angeles, CA, US   72  2018-03-03 18:47:01.954752   \n",
       "1  Mulholland Drive, Los Angeles, CA, US   72  2018-03-03 18:47:01.954752   \n",
       "4  Mulholland Drive, Los Angeles, CA, US   72  2018-03-03 18:47:01.954752   \n",
       "\n",
       "                  update_date  \n",
       "0  2018-03-03 18:47:01.954752  \n",
       "1  2018-04-14 17:09:48.558151  \n",
       "4  2018-05-23 10:13:59.594752  "
      ]
     },
     "execution_count": 6,
     "metadata": {},
     "output_type": "execute_result"
    }
   ],
   "source": [
    "# verificando os dados do id 1.\n",
    "df_row_data[df_row_data[\"id\"] == 1].sort_values(column_sort_values)"
   ]
  },
  {
   "cell_type": "code",
   "execution_count": 7,
   "metadata": {},
   "outputs": [],
   "source": [
    "# ordenando dados\n",
    "df_sorted_data = df_row_data.sort_values(column_sort_values)\n",
    "\n",
    "# deduplicando dados\n",
    "df_deduplicate_data = df_sorted_data.sort_values(column_sort_values).drop_duplicates(column_drop_duplicates,keep='last')"
   ]
  },
  {
   "cell_type": "code",
   "execution_count": 8,
   "metadata": {},
   "outputs": [
    {
     "data": {
      "text/html": [
       "<div>\n",
       "<style scoped>\n",
       "    .dataframe tbody tr th:only-of-type {\n",
       "        vertical-align: middle;\n",
       "    }\n",
       "\n",
       "    .dataframe tbody tr th {\n",
       "        vertical-align: top;\n",
       "    }\n",
       "\n",
       "    .dataframe thead th {\n",
       "        text-align: right;\n",
       "    }\n",
       "</style>\n",
       "<table border=\"1\" class=\"dataframe\">\n",
       "  <thead>\n",
       "    <tr style=\"text-align: right;\">\n",
       "      <th></th>\n",
       "      <th>id</th>\n",
       "      <th>name</th>\n",
       "      <th>email</th>\n",
       "      <th>phone</th>\n",
       "      <th>address</th>\n",
       "      <th>age</th>\n",
       "      <th>create_date</th>\n",
       "      <th>update_date</th>\n",
       "    </tr>\n",
       "  </thead>\n",
       "  <tbody>\n",
       "    <tr>\n",
       "      <th>2</th>\n",
       "      <td>2</td>\n",
       "      <td>sherlock.holmes@cognitivo.ai</td>\n",
       "      <td>Sherlock Holmes</td>\n",
       "      <td>(11) 94815-1623</td>\n",
       "      <td>221B Baker Street, London, UK</td>\n",
       "      <td>34</td>\n",
       "      <td>2018-04-21 20:21:24.364752</td>\n",
       "      <td>2018-04-21 20:21:24.364752</td>\n",
       "    </tr>\n",
       "    <tr>\n",
       "      <th>5</th>\n",
       "      <td>3</td>\n",
       "      <td>spongebob.squarepants@cognitivo.ai</td>\n",
       "      <td>Spongebob Squarepants</td>\n",
       "      <td>(11) 98765-4321</td>\n",
       "      <td>122 Conch Street, Bikini Bottom, Pacific Ocean</td>\n",
       "      <td>13</td>\n",
       "      <td>2018-05-19 04:07:06.854752</td>\n",
       "      <td>2018-05-19 05:08:07.964752</td>\n",
       "    </tr>\n",
       "    <tr>\n",
       "      <th>4</th>\n",
       "      <td>1</td>\n",
       "      <td>david.lynch@cognitivo.ai</td>\n",
       "      <td>David Lynch</td>\n",
       "      <td>(11) 99999-9999</td>\n",
       "      <td>Mulholland Drive, Los Angeles, CA, US</td>\n",
       "      <td>72</td>\n",
       "      <td>2018-03-03 18:47:01.954752</td>\n",
       "      <td>2018-05-23 10:13:59.594752</td>\n",
       "    </tr>\n",
       "  </tbody>\n",
       "</table>\n",
       "</div>"
      ],
      "text/plain": [
       "   id                                name                  email  \\\n",
       "2   2        sherlock.holmes@cognitivo.ai        Sherlock Holmes   \n",
       "5   3  spongebob.squarepants@cognitivo.ai  Spongebob Squarepants   \n",
       "4   1            david.lynch@cognitivo.ai            David Lynch   \n",
       "\n",
       "             phone                                         address  age  \\\n",
       "2  (11) 94815-1623                   221B Baker Street, London, UK   34   \n",
       "5  (11) 98765-4321  122 Conch Street, Bikini Bottom, Pacific Ocean   13   \n",
       "4  (11) 99999-9999           Mulholland Drive, Los Angeles, CA, US   72   \n",
       "\n",
       "                  create_date                 update_date  \n",
       "2  2018-04-21 20:21:24.364752  2018-04-21 20:21:24.364752  \n",
       "5  2018-05-19 04:07:06.854752  2018-05-19 05:08:07.964752  \n",
       "4  2018-03-03 18:47:01.954752  2018-05-23 10:13:59.594752  "
      ]
     },
     "execution_count": 8,
     "metadata": {},
     "output_type": "execute_result"
    }
   ],
   "source": [
    "df_deduplicate_data.head()"
   ]
  },
  {
   "cell_type": "code",
   "execution_count": 9,
   "metadata": {},
   "outputs": [
    {
     "name": "stdout",
     "output_type": "stream",
     "text": [
      "{'age': 'int', 'create_date': 'datetime64[ns]', 'update_date': 'datetime64[ns]'}\n"
     ]
    }
   ],
   "source": [
    "# carregamento metodo para mapeamento de tipos\n",
    "from load_mapping_types import load_mapping_types\n",
    "\n",
    "types_mapping_dict = load_mapping_types(config_types_mapping_filename)\n",
    "print(types_mapping_dict)"
   ]
  },
  {
   "cell_type": "code",
   "execution_count": 10,
   "metadata": {},
   "outputs": [
    {
     "data": {
      "text/html": [
       "<div>\n",
       "<style scoped>\n",
       "    .dataframe tbody tr th:only-of-type {\n",
       "        vertical-align: middle;\n",
       "    }\n",
       "\n",
       "    .dataframe tbody tr th {\n",
       "        vertical-align: top;\n",
       "    }\n",
       "\n",
       "    .dataframe thead th {\n",
       "        text-align: right;\n",
       "    }\n",
       "</style>\n",
       "<table border=\"1\" class=\"dataframe\">\n",
       "  <thead>\n",
       "    <tr style=\"text-align: right;\">\n",
       "      <th></th>\n",
       "      <th>id</th>\n",
       "      <th>name</th>\n",
       "      <th>email</th>\n",
       "      <th>phone</th>\n",
       "      <th>address</th>\n",
       "      <th>age</th>\n",
       "      <th>create_date</th>\n",
       "      <th>update_date</th>\n",
       "    </tr>\n",
       "  </thead>\n",
       "  <tbody>\n",
       "    <tr>\n",
       "      <th>2</th>\n",
       "      <td>2</td>\n",
       "      <td>sherlock.holmes@cognitivo.ai</td>\n",
       "      <td>Sherlock Holmes</td>\n",
       "      <td>(11) 94815-1623</td>\n",
       "      <td>221B Baker Street, London, UK</td>\n",
       "      <td>34</td>\n",
       "      <td>2018-04-21 20:21:24.364752</td>\n",
       "      <td>2018-04-21 20:21:24.364752</td>\n",
       "    </tr>\n",
       "    <tr>\n",
       "      <th>5</th>\n",
       "      <td>3</td>\n",
       "      <td>spongebob.squarepants@cognitivo.ai</td>\n",
       "      <td>Spongebob Squarepants</td>\n",
       "      <td>(11) 98765-4321</td>\n",
       "      <td>122 Conch Street, Bikini Bottom, Pacific Ocean</td>\n",
       "      <td>13</td>\n",
       "      <td>2018-05-19 04:07:06.854752</td>\n",
       "      <td>2018-05-19 05:08:07.964752</td>\n",
       "    </tr>\n",
       "    <tr>\n",
       "      <th>4</th>\n",
       "      <td>1</td>\n",
       "      <td>david.lynch@cognitivo.ai</td>\n",
       "      <td>David Lynch</td>\n",
       "      <td>(11) 99999-9999</td>\n",
       "      <td>Mulholland Drive, Los Angeles, CA, US</td>\n",
       "      <td>72</td>\n",
       "      <td>2018-03-03 18:47:01.954752</td>\n",
       "      <td>2018-05-23 10:13:59.594752</td>\n",
       "    </tr>\n",
       "  </tbody>\n",
       "</table>\n",
       "</div>"
      ],
      "text/plain": [
       "   id                                name                  email  \\\n",
       "2   2        sherlock.holmes@cognitivo.ai        Sherlock Holmes   \n",
       "5   3  spongebob.squarepants@cognitivo.ai  Spongebob Squarepants   \n",
       "4   1            david.lynch@cognitivo.ai            David Lynch   \n",
       "\n",
       "             phone                                         address  age  \\\n",
       "2  (11) 94815-1623                   221B Baker Street, London, UK   34   \n",
       "5  (11) 98765-4321  122 Conch Street, Bikini Bottom, Pacific Ocean   13   \n",
       "4  (11) 99999-9999           Mulholland Drive, Los Angeles, CA, US   72   \n",
       "\n",
       "                 create_date                update_date  \n",
       "2 2018-04-21 20:21:24.364752 2018-04-21 20:21:24.364752  \n",
       "5 2018-05-19 04:07:06.854752 2018-05-19 05:08:07.964752  \n",
       "4 2018-03-03 18:47:01.954752 2018-05-23 10:13:59.594752  "
      ]
     },
     "execution_count": 10,
     "metadata": {},
     "output_type": "execute_result"
    }
   ],
   "source": [
    "df_converted_type_data = df_deduplicate_data.astype(types_mapping_dict)\n",
    "df_converted_type_data.head()"
   ]
  },
  {
   "cell_type": "code",
   "execution_count": 11,
   "metadata": {},
   "outputs": [
    {
     "data": {
      "text/plain": [
       "id                      int64\n",
       "name                   object\n",
       "email                  object\n",
       "phone                  object\n",
       "address                object\n",
       "age                     int64\n",
       "create_date    datetime64[ns]\n",
       "update_date    datetime64[ns]\n",
       "dtype: object"
      ]
     },
     "execution_count": 11,
     "metadata": {},
     "output_type": "execute_result"
    }
   ],
   "source": [
    "df_converted_type_data.dtypes"
   ]
  },
  {
   "cell_type": "code",
   "execution_count": 12,
   "metadata": {},
   "outputs": [],
   "source": [
    "# convertendo datetime to timetamp devido o datetime não poder ser escrito diretamente em timestamp\n",
    "from convert_pandas_datetime_to_timestamp import convert_pandas_datetime_to_timestamp\n",
    "\n",
    "df_converted_type_data_to_timestamp = convert_pandas_datetime_to_timestamp(df_converted_type_data)"
   ]
  },
  {
   "cell_type": "code",
   "execution_count": 13,
   "metadata": {},
   "outputs": [],
   "source": [
    "df_converted_type_data_to_timestamp.to_parquet(data_filename_parquet_product_export,index=False)\n",
    "df_converted_type_data_to_timestamp.to_csv(data_filename_csv_product_export,index=False)"
   ]
  },
  {
   "cell_type": "code",
   "execution_count": 14,
   "metadata": {},
   "outputs": [
    {
     "data": {
      "text/plain": [
       "id              int64\n",
       "name           object\n",
       "email          object\n",
       "phone          object\n",
       "address        object\n",
       "age             int64\n",
       "create_date     int64\n",
       "update_date     int64\n",
       "dtype: object"
      ]
     },
     "execution_count": 14,
     "metadata": {},
     "output_type": "execute_result"
    }
   ],
   "source": [
    "pd.read_parquet(data_filename_parquet_product_export).dtypes"
   ]
  },
  {
   "cell_type": "code",
   "execution_count": null,
   "metadata": {},
   "outputs": [],
   "source": []
  }
 ],
 "metadata": {
  "kernelspec": {
   "display_name": "Python 3",
   "language": "python",
   "name": "python3"
  },
  "language_info": {
   "codemirror_mode": {
    "name": "ipython",
    "version": 3
   },
   "file_extension": ".py",
   "mimetype": "text/x-python",
   "name": "python",
   "nbconvert_exporter": "python",
   "pygments_lexer": "ipython3",
   "version": "3.6.12"
  }
 },
 "nbformat": 4,
 "nbformat_minor": 4
}
