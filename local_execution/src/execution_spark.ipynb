{
 "cells": [
  {
   "cell_type": "code",
   "execution_count": 1,
   "metadata": {},
   "outputs": [],
   "source": [
    "config_types_mapping_filename = \"/config/types_mapping.json\"\n",
    "data_filename_import = \"/data/input/users/load.csv\"\n",
    "data_filename_parquet_product_export = \"/data/output/product_export_spark.parquet\"\n",
    "data_filename_csv_product_export = \"/data/output/product_export_spark.csv\""
   ]
  },
  {
   "cell_type": "code",
   "execution_count": 9,
   "metadata": {},
   "outputs": [],
   "source": [
    "column_sort_values = \"update_date\"\n",
    "column_drop_duplicates = \"id\""
   ]
  },
  {
   "cell_type": "code",
   "execution_count": 16,
   "metadata": {},
   "outputs": [],
   "source": [
    "from pyspark.sql import SparkSession\n",
    "from pyspark.sql.context import SQLContext\n",
    "\n",
    "spark = SparkSession.builder.appName(\"ImportExportCSVToParquet\").master(\"spark://spark:7077\").getOrCreate()\n",
    "sc = spark.sparkContext\n",
    "sqlCtx = SQLContext(sc)"
   ]
  },
  {
   "cell_type": "code",
   "execution_count": 21,
   "metadata": {},
   "outputs": [
    {
     "data": {
      "text/plain": [
       "[('id', 'bigint'),\n",
       " ('name', 'string'),\n",
       " ('email', 'string'),\n",
       " ('phone', 'string'),\n",
       " ('address', 'string'),\n",
       " ('age', 'bigint'),\n",
       " ('create_date', 'string'),\n",
       " ('update_date', 'string')]"
      ]
     },
     "execution_count": 21,
     "metadata": {},
     "output_type": "execute_result"
    }
   ],
   "source": [
    "import pandas as pd\n",
    "\n",
    "df_row_data = pd.read_csv(data_filename_import)\n",
    "sdf_row_data = sqlCtx.createDataFrame(df_row_data)\n",
    "# df_row_data = spark.read.csv(data_filename_import,inferSchema =True,header=True)\n",
    "# df_row_data.dtypes\n",
    "sdf_row_data.dtypes"
   ]
  },
  {
   "cell_type": "code",
   "execution_count": 22,
   "metadata": {},
   "outputs": [],
   "source": [
    "# df.write.csv\n",
    "# df_row_data.to_parquet(data_filename_parquet_product_export)\n",
    "# df_row_data.write.csv(data_filename_csv_product_export)\n",
    "sdf_row_data.toPandas().to_csv(data_filename_csv_product_export,index=False)"
   ]
  },
  {
   "cell_type": "code",
   "execution_count": null,
   "metadata": {},
   "outputs": [],
   "source": []
  }
 ],
 "metadata": {
  "kernelspec": {
   "display_name": "Python 3",
   "language": "python",
   "name": "python3"
  },
  "language_info": {
   "codemirror_mode": {
    "name": "ipython",
    "version": 3
   },
   "file_extension": ".py",
   "mimetype": "text/x-python",
   "name": "python",
   "nbconvert_exporter": "python",
   "pygments_lexer": "ipython3",
   "version": "3.6.12"
  }
 },
 "nbformat": 4,
 "nbformat_minor": 4
}
